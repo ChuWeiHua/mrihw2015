{
 "cells": [
  {
   "cell_type": "code",
   "execution_count": 102,
   "metadata": {
    "collapsed": false,
    "scrolled": false
   },
   "outputs": [
    {
     "name": "stdout",
     "output_type": "stream",
     "text": [
      "Mz: 1.000000 , Mxy: 0.422618 \n",
      "Mz: 0.915224 , Mxy: 0.386790\n",
      "Mz: 0.845702 , Mxy: 0.357409\n",
      "Mz: 0.788690 , Mxy: 0.333315\n",
      "Mz: 0.741937 , Mxy: 0.313556\n",
      "Mz: 0.703596 , Mxy: 0.297353\n",
      "Mz: 0.672154 , Mxy: 0.284065\n",
      "Mz: 0.646370 , Mxy: 0.273168\n",
      "Mz: 0.625226 , Mxy: 0.264232\n",
      "Mz: 0.607886 , Mxy: 0.256904\n",
      "Mz: 0.593666 , Mxy: 0.250894\n",
      "Mz: 0.582005 , Mxy: 0.245966\n",
      "Mz: 0.572443 , Mxy: 0.241925\n",
      "Mz: 0.564600 , Mxy: 0.238610\n",
      "Mz: 0.558170 , Mxy: 0.235893\n",
      "Mz: 0.552896 , Mxy: 0.233664\n",
      "Mz: 0.548571 , Mxy: 0.231836\n",
      "Mz: 0.545024 , Mxy: 0.230337\n",
      "Mz: 0.542116 , Mxy: 0.229108\n",
      "Mz: 0.539731 , Mxy: 0.228100\n",
      "Mz: 0.537775 , Mxy: 0.227273\n",
      "Mz: 0.536171 , Mxy: 0.226596\n",
      "Mz: 0.534856 , Mxy: 0.226040\n",
      "Mz: 0.533777 , Mxy: 0.225584\n",
      "Mz: 0.532892 , Mxy: 0.225210\n",
      "Mz: 0.532167 , Mxy: 0.224903\n",
      "Mz: 0.531572 , Mxy: 0.224652\n",
      "Mz: 0.531084 , Mxy: 0.224446\n",
      "Mz: 0.530684 , Mxy: 0.224277\n",
      "Mz: 0.530356 , Mxy: 0.224138\n",
      "Mz: 0.530087 , Mxy: 0.224024\n",
      "Mz: 0.529866 , Mxy: 0.223931\n",
      "Mz: 0.529685 , Mxy: 0.223855\n",
      "Mz: 0.529537 , Mxy: 0.223792\n",
      "Mz: 0.529415 , Mxy: 0.223741\n",
      "Mz: 0.529316 , Mxy: 0.223698\n",
      "Mz: 0.529234 , Mxy: 0.223664\n",
      "Mz: 0.529167 , Mxy: 0.223635\n",
      "Mz: 0.529112 , Mxy: 0.223612\n",
      "Mz: 0.529066 , Mxy: 0.223593\n",
      "Mz: 0.529029 , Mxy: 0.223578\n",
      "Mz: 0.528999 , Mxy: 0.223565\n",
      "Mz: 0.528974 , Mxy: 0.223554\n",
      "Mz: 0.528954 , Mxy: 0.223546\n",
      "Mz: 0.528937 , Mxy: 0.223538\n",
      "Mz: 0.528923 , Mxy: 0.223533\n",
      "Mz: 0.528912 , Mxy: 0.223528\n",
      "Mz: 0.528903 , Mxy: 0.223524\n",
      "Mz: 0.528895 , Mxy: 0.223521\n",
      "Mz: 0.528889 , Mxy: 0.223518\n",
      "Mz: 0.528884 , Mxy: 0.223516\n",
      "Mz: 0.528880 , Mxy: 0.223514\n",
      "Mz: 0.528876 , Mxy: 0.223513\n",
      "Mz: 0.528874 , Mxy: 0.223512\n",
      "Mz: 0.528871 , Mxy: 0.223511\n",
      "Mz: 0.528869 , Mxy: 0.223510\n",
      "Mz: 0.528868 , Mxy: 0.223509\n",
      "Mz: 0.528867 , Mxy: 0.223509\n",
      "Mz: 0.528866 , Mxy: 0.223508\n",
      "Mz: 0.528865 , Mxy: 0.223508\n",
      "Mz: 0.528864 , Mxy: 0.223508\n",
      "Mz: 0.528863 , Mxy: 0.223507\n",
      "Mz: 0.528863 , Mxy: 0.223507\n",
      "Mz: 0.528863 , Mxy: 0.223507\n",
      "Mz: 0.528862 , Mxy: 0.223507\n",
      "Mz: 0.528862 , Mxy: 0.223507\n",
      "Mz: 0.528862 , Mxy: 0.223507\n",
      "Mz: 0.528862 , Mxy: 0.223507\n",
      "Mz: 0.528861 , Mxy: 0.223507\n",
      "Mz: 0.528861 , Mxy: 0.223506\n",
      "Mz: 0.528861 , Mxy: 0.223506\n",
      "Mz: 0.528861 , Mxy: 0.223506\n",
      "Mz: 0.528861 , Mxy: 0.223506\n",
      "Mz: 0.528861 , Mxy: 0.223506\n",
      "Mz: 0.528861 , Mxy: 0.223506\n",
      "Mz: 0.528861 , Mxy: 0.223506\n",
      "Mz: 0.528861 , Mxy: 0.223506\n",
      "Mz: 0.528861 , Mxy: 0.223506\n",
      "Mz: 0.528861 , Mxy: 0.223506\n",
      "Mz: 0.528861 , Mxy: 0.223506\n",
      "Mz: 0.528861 , Mxy: 0.223506\n",
      "Mz: 0.528861 , Mxy: 0.223506\n",
      "Mz: 0.528861 , Mxy: 0.223506\n",
      "Mz: 0.528861 , Mxy: 0.223506\n",
      "Mz: 0.528861 , Mxy: 0.223506\n",
      "Mz: 0.528861 , Mxy: 0.223506\n",
      "Mz: 0.528861 , Mxy: 0.223506\n",
      "Mz: 0.528861 , Mxy: 0.223506\n",
      "Mz: 0.528861 , Mxy: 0.223506\n",
      "Mz: 0.528861 , Mxy: 0.223506\n",
      "Mz: 0.528861 , Mxy: 0.223506\n",
      "Mz: 0.528861 , Mxy: 0.223506\n",
      "Mz: 0.528861 , Mxy: 0.223506\n",
      "Mz: 0.528861 , Mxy: 0.223506\n",
      "Mz: 0.528861 , Mxy: 0.223506\n",
      "Mz: 0.528861 , Mxy: 0.223506\n",
      "Mz: 0.528861 , Mxy: 0.223506\n",
      "Mz: 0.528861 , Mxy: 0.223506\n",
      "Mz: 0.528861 , Mxy: 0.223506\n",
      "Mz: 0.528861 , Mxy: 0.223506\n",
      "Mz: 0.528861 , Mxy: 0.223506\n"
     ]
    }
   ],
   "source": [
    "%matplotlib inline\n",
    "import matplotlib.pyplot as plt\n",
    "import numpy as np\n",
    "\n",
    "from math import *\n",
    "    \n",
    "x = 1\n",
    "print (\"Mz: %f , Mxy: %f \" % (x, x*sin(25./180*pi)))\n",
    "\n",
    "for ii in range(100):\n",
    "    x = (x*cos(25./180*pi)*exp(-0.1))+(1-exp(-0.1))\n",
    "    print (\"Mz: %f , Mxy: %f\" % (x, x*sin(25./180*pi)))\n",
    "\n",
    "    "
   ]
  },
  {
   "cell_type": "code",
   "execution_count": 108,
   "metadata": {
    "collapsed": false
   },
   "outputs": [
    {
     "name": "stdout",
     "output_type": "stream",
     "text": [
      "M0: 1.000000 , Mz: 0.906308 , Mxy: 0.422618\n",
      "M0: 0.915224 , Mz: 0.829474 , Mxy: 0.386790\n",
      "M0: 0.845702 , Mz: 0.766466 , Mxy: 0.357409\n",
      "M0: 0.788690 , Mz: 0.714796 , Mxy: 0.333315\n",
      "M0: 0.741937 , Mz: 0.672423 , Mxy: 0.313556\n",
      "M0: 0.703596 , Mz: 0.637675 , Mxy: 0.297353\n",
      "M0: 0.672154 , Mz: 0.609179 , Mxy: 0.284065\n",
      "M0: 0.646370 , Mz: 0.585810 , Mxy: 0.273168\n",
      "M0: 0.625226 , Mz: 0.566647 , Mxy: 0.264232\n",
      "M0: 0.607886 , Mz: 0.550932 , Mxy: 0.256904\n",
      "M0: 0.593666 , Mz: 0.538044 , Mxy: 0.250894\n",
      "M0: 0.582005 , Mz: 0.527476 , Mxy: 0.245966\n",
      "M0: 0.572443 , Mz: 0.518809 , Mxy: 0.241925\n",
      "M0: 0.564600 , Mz: 0.511702 , Mxy: 0.238610\n",
      "M0: 0.558170 , Mz: 0.505873 , Mxy: 0.235893\n",
      "M0: 0.552896 , Mz: 0.501094 , Mxy: 0.233664\n",
      "M0: 0.548571 , Mz: 0.497174 , Mxy: 0.231836\n",
      "M0: 0.545024 , Mz: 0.493960 , Mxy: 0.230337\n",
      "M0: 0.542116 , Mz: 0.491324 , Mxy: 0.229108\n",
      "M0: 0.539731 , Mz: 0.489162 , Mxy: 0.228100\n",
      "M0: 0.537775 , Mz: 0.487390 , Mxy: 0.227273\n",
      "M0: 0.536171 , Mz: 0.485936 , Mxy: 0.226596\n",
      "M0: 0.534856 , Mz: 0.484744 , Mxy: 0.226040\n",
      "M0: 0.533777 , Mz: 0.483766 , Mxy: 0.225584\n",
      "M0: 0.532892 , Mz: 0.482964 , Mxy: 0.225210\n",
      "M0: 0.532167 , Mz: 0.482307 , Mxy: 0.224903\n",
      "M0: 0.531572 , Mz: 0.481768 , Mxy: 0.224652\n",
      "M0: 0.531084 , Mz: 0.481326 , Mxy: 0.224446\n",
      "M0: 0.530684 , Mz: 0.480963 , Mxy: 0.224277\n",
      "M0: 0.530356 , Mz: 0.480666 , Mxy: 0.224138\n",
      "M0: 0.530087 , Mz: 0.480422 , Mxy: 0.224024\n",
      "M0: 0.529866 , Mz: 0.480222 , Mxy: 0.223931\n",
      "M0: 0.529685 , Mz: 0.480058 , Mxy: 0.223855\n",
      "M0: 0.529537 , Mz: 0.479924 , Mxy: 0.223792\n",
      "M0: 0.529415 , Mz: 0.479813 , Mxy: 0.223741\n",
      "M0: 0.529316 , Mz: 0.479723 , Mxy: 0.223698\n",
      "M0: 0.529234 , Mz: 0.479649 , Mxy: 0.223664\n",
      "M0: 0.529167 , Mz: 0.479588 , Mxy: 0.223635\n",
      "M0: 0.529112 , Mz: 0.479538 , Mxy: 0.223612\n",
      "M0: 0.529066 , Mz: 0.479497 , Mxy: 0.223593\n",
      "M0: 0.529029 , Mz: 0.479464 , Mxy: 0.223578\n",
      "M0: 0.528999 , Mz: 0.479436 , Mxy: 0.223565\n",
      "M0: 0.528974 , Mz: 0.479413 , Mxy: 0.223554\n",
      "M0: 0.528954 , Mz: 0.479395 , Mxy: 0.223546\n",
      "M0: 0.528937 , Mz: 0.479380 , Mxy: 0.223538\n",
      "M0: 0.528923 , Mz: 0.479367 , Mxy: 0.223533\n",
      "M0: 0.528912 , Mz: 0.479357 , Mxy: 0.223528\n",
      "M0: 0.528903 , Mz: 0.479349 , Mxy: 0.223524\n",
      "M0: 0.528895 , Mz: 0.479342 , Mxy: 0.223521\n",
      "M0: 0.528889 , Mz: 0.479336 , Mxy: 0.223518\n",
      "M0: 0.528884 , Mz: 0.479332 , Mxy: 0.223516\n",
      "M0: 0.528880 , Mz: 0.479328 , Mxy: 0.223514\n",
      "M0: 0.528876 , Mz: 0.479325 , Mxy: 0.223513\n",
      "M0: 0.528874 , Mz: 0.479322 , Mxy: 0.223512\n",
      "M0: 0.528871 , Mz: 0.479320 , Mxy: 0.223511\n",
      "M0: 0.528869 , Mz: 0.479318 , Mxy: 0.223510\n",
      "M0: 0.528868 , Mz: 0.479317 , Mxy: 0.223509\n",
      "M0: 0.528867 , Mz: 0.479316 , Mxy: 0.223509\n",
      "M0: 0.528866 , Mz: 0.479315 , Mxy: 0.223508\n",
      "M0: 0.528865 , Mz: 0.479314 , Mxy: 0.223508\n",
      "M0: 0.528864 , Mz: 0.479314 , Mxy: 0.223508\n",
      "M0: 0.528863 , Mz: 0.479313 , Mxy: 0.223507\n",
      "M0: 0.528863 , Mz: 0.479313 , Mxy: 0.223507\n",
      "M0: 0.528863 , Mz: 0.479312 , Mxy: 0.223507\n",
      "M0: 0.528862 , Mz: 0.479312 , Mxy: 0.223507\n",
      "M0: 0.528862 , Mz: 0.479312 , Mxy: 0.223507\n",
      "M0: 0.528862 , Mz: 0.479312 , Mxy: 0.223507\n",
      "M0: 0.528862 , Mz: 0.479311 , Mxy: 0.223507\n",
      "M0: 0.528861 , Mz: 0.479311 , Mxy: 0.223507\n",
      "M0: 0.528861 , Mz: 0.479311 , Mxy: 0.223506\n",
      "M0: 0.528861 , Mz: 0.479311 , Mxy: 0.223506\n",
      "M0: 0.528861 , Mz: 0.479311 , Mxy: 0.223506\n",
      "M0: 0.528861 , Mz: 0.479311 , Mxy: 0.223506\n",
      "M0: 0.528861 , Mz: 0.479311 , Mxy: 0.223506\n",
      "M0: 0.528861 , Mz: 0.479311 , Mxy: 0.223506\n",
      "M0: 0.528861 , Mz: 0.479311 , Mxy: 0.223506\n",
      "M0: 0.528861 , Mz: 0.479311 , Mxy: 0.223506\n",
      "M0: 0.528861 , Mz: 0.479311 , Mxy: 0.223506\n",
      "M0: 0.528861 , Mz: 0.479311 , Mxy: 0.223506\n",
      "M0: 0.528861 , Mz: 0.479311 , Mxy: 0.223506\n",
      "M0: 0.528861 , Mz: 0.479311 , Mxy: 0.223506\n",
      "M0: 0.528861 , Mz: 0.479311 , Mxy: 0.223506\n",
      "M0: 0.528861 , Mz: 0.479311 , Mxy: 0.223506\n",
      "M0: 0.528861 , Mz: 0.479311 , Mxy: 0.223506\n",
      "M0: 0.528861 , Mz: 0.479311 , Mxy: 0.223506\n",
      "M0: 0.528861 , Mz: 0.479311 , Mxy: 0.223506\n",
      "M0: 0.528861 , Mz: 0.479311 , Mxy: 0.223506\n",
      "M0: 0.528861 , Mz: 0.479311 , Mxy: 0.223506\n",
      "M0: 0.528861 , Mz: 0.479311 , Mxy: 0.223506\n",
      "M0: 0.528861 , Mz: 0.479311 , Mxy: 0.223506\n",
      "M0: 0.528861 , Mz: 0.479311 , Mxy: 0.223506\n",
      "M0: 0.528861 , Mz: 0.479311 , Mxy: 0.223506\n",
      "M0: 0.528861 , Mz: 0.479311 , Mxy: 0.223506\n",
      "M0: 0.528861 , Mz: 0.479311 , Mxy: 0.223506\n",
      "M0: 0.528861 , Mz: 0.479311 , Mxy: 0.223506\n",
      "M0: 0.528861 , Mz: 0.479311 , Mxy: 0.223506\n",
      "M0: 0.528861 , Mz: 0.479311 , Mxy: 0.223506\n",
      "M0: 0.528861 , Mz: 0.479311 , Mxy: 0.223506\n",
      "M0: 0.528861 , Mz: 0.479311 , Mxy: 0.223506\n",
      "M0: 0.528861 , Mz: 0.479311 , Mxy: 0.223506\n",
      "M0: 0.528861 , Mz: 0.479311 , Mxy: 0.223506\n"
     ]
    }
   ],
   "source": [
    "%matplotlib inline\n",
    "import matplotlib.pyplot as plt\n",
    "import numpy as np\n",
    "\n",
    "from math import *\n",
    "\n",
    "x = 1\n",
    "print (\"M0: %f , Mz: %f , Mxy: %f\" % (x, x*cos(25./180*pi), x*sin(25./180*pi)))\n",
    "\n",
    "for ii in range(100):\n",
    "    x = (x*cos(25./180*pi)*exp(-0.1))+(1-exp(-0.1))\n",
    "    print (\"M0: %f , Mz: %f , Mxy: %f\" % (x, x*cos(25./180*pi), x*sin(25./180*pi)))"
   ]
  },
  {
   "cell_type": "code",
   "execution_count": 97,
   "metadata": {
    "collapsed": false
   },
   "outputs": [
    {
     "data": {
      "text/plain": [
       "[<matplotlib.lines.Line2D at 0x8fd4550>]"
      ]
     },
     "execution_count": 97,
     "metadata": {},
     "output_type": "execute_result"
    },
    {
     "data": {
      "image/png": "[encoded data removed]",
      "text/plain": [
       "<matplotlib.figure.Figure at 0x909c8d0>"
      ]
     },
     "metadata": {},
     "output_type": "display_data"
    }
   ],
   "source": [
    "%matplotlib inline\n",
    "import matplotlib.pyplot as plt\n",
    "import numpy as np\n",
    "\n",
    "from math import *\n",
    "\n",
    "n = np.arange(0, 1, 0.1)\n",
    "x = 1\n",
    "\n",
    "for ii in range(100):\n",
    "    x = (x*cos(25./180*pi)*np.exp(-0.1))+(1-np.exp(-0.1))\n",
    "    y1 = x*np.cos(25./180*pi)\n",
    "    y2 = y1*np.exp(-0.1*n)+(1-np.exp(-0.1*n))\n",
    "\n",
    "\n",
    "plt.plot(n, y2)"
   ]
  },
  {
   "cell_type": "code",
   "execution_count": 106,
   "metadata": {
    "collapsed": false,
    "scrolled": false
   },
   "outputs": [
    {
     "data": {
      "text/plain": [
       "[<matplotlib.lines.Line2D at 0x8ff1240>]"
      ]
     },
     "execution_count": 106,
     "metadata": {},
     "output_type": "execute_result"
    },
    {
     "data": {
      "image/png": "[encoded data removed]",
      "text/plain": [
       "<matplotlib.figure.Figure at 0x8f296a0>"
      ]
     },
     "metadata": {},
     "output_type": "display_data"
    }
   ],
   "source": [
    "%matplotlib inline\n",
    "import matplotlib.pyplot as plt\n",
    "import numpy as np\n",
    "\n",
    "from math import *\n",
    "\n",
    "x = 1 \n",
    "y = []\n",
    "z = []\n",
    "\n",
    "\n",
    "for ii in range(0, 100):\n",
    "        x = (x*np.cos(25./180*pi)*np.exp(-0.1))+(1-np.exp(-0.1))       \n",
    "        y.append(x)   \n",
    "        \n",
    "for j in range(0, 100):\n",
    "        z.append(j/10.)\n",
    "        \n",
    "plt.plot(z, y)\n"
   ]
  },
  {
   "cell_type": "code",
   "execution_count": null,
   "metadata": {
    "collapsed": true
   },
   "outputs": [],
   "source": []
  }
 ],
 "metadata": {
  "kernelspec": {
   "display_name": "Python 3",
   "language": "python",
   "name": "python3"
  },
  "language_info": {
   "codemirror_mode": {
    "name": "ipython",
    "version": 3
   },
   "file_extension": ".py",
   "mimetype": "text/x-python",
   "name": "python",
   "nbconvert_exporter": "python",
   "pygments_lexer": "ipython3",
   "version": "3.4.3"
  }
 },
 "nbformat": 4,
 "nbformat_minor": 0
}
